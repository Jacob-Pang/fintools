{
 "cells": [
  {
   "cell_type": "code",
   "execution_count": 1,
   "metadata": {},
   "outputs": [],
   "source": [
    "from fintools.datareader import get_database\n",
    "from fintools.dataseries.stablecoin_reserves import USDTReserves, DAIReserves"
   ]
  },
  {
   "cell_type": "code",
   "execution_count": 2,
   "metadata": {},
   "outputs": [],
   "source": [
    "crypto_database = get_database(\"crypto_database\")"
   ]
  },
  {
   "cell_type": "code",
   "execution_count": 3,
   "metadata": {},
   "outputs": [],
   "source": [
    "access_token = input()"
   ]
  },
  {
   "cell_type": "code",
   "execution_count": 4,
   "metadata": {},
   "outputs": [],
   "source": [
    "crypto_database.set_access_token(access_token)"
   ]
  },
  {
   "cell_type": "code",
   "execution_count": 5,
   "metadata": {},
   "outputs": [
    {
     "data": {
      "text/plain": [
       "'c:\\\\Users\\\\jacob\\\\OneDrive\\\\Desktop\\\\repositories\\\\fintools\\\\temp_bin'"
      ]
     },
     "execution_count": 5,
     "metadata": {},
     "output_type": "execute_result"
    }
   ],
   "source": [
    "import os\n",
    "\n",
    "temp_bin_dpath = os.path.join(os.path.dirname(os.getcwd()), \"temp_bin\")\n",
    "\n",
    "temp_bin_dpath"
   ]
  },
  {
   "cell_type": "code",
   "execution_count": 6,
   "metadata": {},
   "outputs": [
    {
     "data": {
      "text/html": [
       "<div>\n",
       "<style scoped>\n",
       "    .dataframe tbody tr th:only-of-type {\n",
       "        vertical-align: middle;\n",
       "    }\n",
       "\n",
       "    .dataframe tbody tr th {\n",
       "        vertical-align: top;\n",
       "    }\n",
       "\n",
       "    .dataframe thead th {\n",
       "        text-align: right;\n",
       "    }\n",
       "</style>\n",
       "<table border=\"1\" class=\"dataframe\">\n",
       "  <thead>\n",
       "    <tr style=\"text-align: right;\">\n",
       "      <th></th>\n",
       "      <th>asset</th>\n",
       "      <th>proportion</th>\n",
       "      <th>value</th>\n",
       "      <th>date</th>\n",
       "    </tr>\n",
       "  </thead>\n",
       "  <tbody>\n",
       "    <tr>\n",
       "      <th>0</th>\n",
       "      <td>Other Investments(Including Digital Tokens)</td>\n",
       "      <td>0.060200</td>\n",
       "      <td>3.973722e+09</td>\n",
       "      <td>2022-07-20</td>\n",
       "    </tr>\n",
       "    <tr>\n",
       "      <th>1</th>\n",
       "      <td>Secured Loans(None To Affiliated Entities)</td>\n",
       "      <td>0.038200</td>\n",
       "      <td>2.521531e+09</td>\n",
       "      <td>2022-07-20</td>\n",
       "    </tr>\n",
       "    <tr>\n",
       "      <th>2</th>\n",
       "      <td>Corporate Bonds, Funds &amp; Precious Metals</td>\n",
       "      <td>0.045200</td>\n",
       "      <td>2.983592e+09</td>\n",
       "      <td>2022-07-20</td>\n",
       "    </tr>\n",
       "    <tr>\n",
       "      <th>3</th>\n",
       "      <td>Non-U.S. Treasury Bills</td>\n",
       "      <td>0.003511</td>\n",
       "      <td>2.317723e+08</td>\n",
       "      <td>2022-07-20</td>\n",
       "    </tr>\n",
       "    <tr>\n",
       "      <th>4</th>\n",
       "      <td>U.S. Treasury Bills</td>\n",
       "      <td>0.475559</td>\n",
       "      <td>3.139101e+10</td>\n",
       "      <td>2022-07-20</td>\n",
       "    </tr>\n",
       "    <tr>\n",
       "      <th>...</th>\n",
       "      <td>...</td>\n",
       "      <td>...</td>\n",
       "      <td>...</td>\n",
       "      <td>...</td>\n",
       "    </tr>\n",
       "    <tr>\n",
       "      <th>103</th>\n",
       "      <td>U.S. Treasury Bills</td>\n",
       "      <td>0.475559</td>\n",
       "      <td>3.158968e+10</td>\n",
       "      <td>2022-08-04</td>\n",
       "    </tr>\n",
       "    <tr>\n",
       "      <th>104</th>\n",
       "      <td>Reverse Repurchase Agreements</td>\n",
       "      <td>0.001285</td>\n",
       "      <td>8.533139e+07</td>\n",
       "      <td>2022-08-04</td>\n",
       "    </tr>\n",
       "    <tr>\n",
       "      <th>105</th>\n",
       "      <td>Cash &amp; Bank Deposits</td>\n",
       "      <td>0.049757</td>\n",
       "      <td>3.305169e+09</td>\n",
       "      <td>2022-08-04</td>\n",
       "    </tr>\n",
       "    <tr>\n",
       "      <th>106</th>\n",
       "      <td>Money Market Funds</td>\n",
       "      <td>0.082471</td>\n",
       "      <td>5.478275e+09</td>\n",
       "      <td>2022-08-04</td>\n",
       "    </tr>\n",
       "    <tr>\n",
       "      <th>107</th>\n",
       "      <td>Commercial Paper and Certificates of Deposit</td>\n",
       "      <td>0.243817</td>\n",
       "      <td>1.619590e+10</td>\n",
       "      <td>2022-08-04</td>\n",
       "    </tr>\n",
       "  </tbody>\n",
       "</table>\n",
       "<p>108 rows × 4 columns</p>\n",
       "</div>"
      ],
      "text/plain": [
       "                                            asset  proportion         value  \\\n",
       "0     Other Investments(Including Digital Tokens)    0.060200  3.973722e+09   \n",
       "1      Secured Loans(None To Affiliated Entities)    0.038200  2.521531e+09   \n",
       "2        Corporate Bonds, Funds & Precious Metals    0.045200  2.983592e+09   \n",
       "3                         Non-U.S. Treasury Bills    0.003511  2.317723e+08   \n",
       "4                             U.S. Treasury Bills    0.475559  3.139101e+10   \n",
       "..                                            ...         ...           ...   \n",
       "103                           U.S. Treasury Bills    0.475559  3.158968e+10   \n",
       "104                 Reverse Repurchase Agreements    0.001285  8.533139e+07   \n",
       "105                          Cash & Bank Deposits    0.049757  3.305169e+09   \n",
       "106                            Money Market Funds    0.082471  5.478275e+09   \n",
       "107  Commercial Paper and Certificates of Deposit    0.243817  1.619590e+10   \n",
       "\n",
       "          date  \n",
       "0   2022-07-20  \n",
       "1   2022-07-20  \n",
       "2   2022-07-20  \n",
       "3   2022-07-20  \n",
       "4   2022-07-20  \n",
       "..         ...  \n",
       "103 2022-08-04  \n",
       "104 2022-08-04  \n",
       "105 2022-08-04  \n",
       "106 2022-08-04  \n",
       "107 2022-08-04  \n",
       "\n",
       "[108 rows x 4 columns]"
      ]
     },
     "execution_count": 6,
     "metadata": {},
     "output_type": "execute_result"
    }
   ],
   "source": [
    "import pandas as pd\n",
    "\n",
    "pdf = pd.read_csv(os.path.join(temp_bin_dpath, \"usdt.csv\")).drop(columns=[\"RdfsIndex\"]).rename(columns={\"assetCategory\": \"asset\"})\n",
    "pdf[\"date\"] = pdf[\"date\"].astype(str)\n",
    "pdf[\"date\"] = pdf[\"date\"].map(lambda x: x[:10])\n",
    "pdf[\"date\"] = pd.to_datetime(pdf[\"date\"])\n",
    "pdf"
   ]
  },
  {
   "cell_type": "code",
   "execution_count": 7,
   "metadata": {},
   "outputs": [],
   "source": [
    "usdt_reserves = USDTReserves(\"usdt_reserves\")\n",
    "crypto_database.add_resident_child_node(usdt_reserves, \"coin_reserves\")\n",
    "\n",
    "usdt_reserves.save_data(pdf)"
   ]
  },
  {
   "cell_type": "code",
   "execution_count": null,
   "metadata": {},
   "outputs": [],
   "source": [
    "dai_reserves = DAIReserves(\"dai_reserves\")\n",
    "crypto_database.add_resident_child_node(dai_reserves, \"coin_reserves\")"
   ]
  },
  {
   "cell_type": "code",
   "execution_count": null,
   "metadata": {},
   "outputs": [],
   "source": []
  },
  {
   "cell_type": "markdown",
   "metadata": {},
   "source": [
    "#### Saving Database"
   ]
  },
  {
   "cell_type": "code",
   "execution_count": null,
   "metadata": {},
   "outputs": [],
   "source": [
    "markets_database.save_database_memory(access_token=access_token)"
   ]
  }
 ],
 "metadata": {
  "kernelspec": {
   "display_name": "Python 3.10.5 64-bit",
   "language": "python",
   "name": "python3"
  },
  "language_info": {
   "codemirror_mode": {
    "name": "ipython",
    "version": 3
   },
   "file_extension": ".py",
   "mimetype": "text/x-python",
   "name": "python",
   "nbconvert_exporter": "python",
   "pygments_lexer": "ipython3",
   "version": "3.10.5"
  },
  "orig_nbformat": 4,
  "vscode": {
   "interpreter": {
    "hash": "90d99a365a6800d6d3b874802d775db992b69c47481bfc65e12294d647a46c22"
   }
  }
 },
 "nbformat": 4,
 "nbformat_minor": 2
}
