{
 "cells": [
  {
   "cell_type": "code",
   "execution_count": 1,
   "metadata": {},
   "outputs": [],
   "source": [
    "from pyutils.pytask_scheduler import run_pytasks_scheduler\n",
    "from fintools.datareader import get_database\n",
    "from fintools.dataseries.comtrade_dataseries import ComtradeGoodsDataSeries"
   ]
  },
  {
   "cell_type": "code",
   "execution_count": 4,
   "metadata": {},
   "outputs": [],
   "source": [
    "access_token = input()"
   ]
  },
  {
   "cell_type": "code",
   "execution_count": 5,
   "metadata": {},
   "outputs": [],
   "source": [
    "macro_database = get_database(\"macro_database\")"
   ]
  },
  {
   "cell_type": "code",
   "execution_count": 6,
   "metadata": {},
   "outputs": [
    {
     "data": {
      "text/html": [
       "<div>\n",
       "<style scoped>\n",
       "    .dataframe tbody tr th:only-of-type {\n",
       "        vertical-align: middle;\n",
       "    }\n",
       "\n",
       "    .dataframe tbody tr th {\n",
       "        vertical-align: top;\n",
       "    }\n",
       "\n",
       "    .dataframe thead th {\n",
       "        text-align: right;\n",
       "    }\n",
       "</style>\n",
       "<table border=\"1\" class=\"dataframe\">\n",
       "  <thead>\n",
       "    <tr style=\"text-align: right;\">\n",
       "      <th></th>\n",
       "      <th>ID</th>\n",
       "      <th>category</th>\n",
       "      <th>description</th>\n",
       "    </tr>\n",
       "  </thead>\n",
       "  <tbody>\n",
       "    <tr>\n",
       "      <th>0</th>\n",
       "      <td>macro_database_dbase_memory</td>\n",
       "      <td>ARTIFACT</td>\n",
       "      <td>persistent database memory structure</td>\n",
       "    </tr>\n",
       "    <tr>\n",
       "      <th>1</th>\n",
       "      <td>comtrade_dataseries</td>\n",
       "      <td>DATAFRAME</td>\n",
       "      <td>Trade values of imports, exports, re-imports a...</td>\n",
       "    </tr>\n",
       "  </tbody>\n",
       "</table>\n",
       "</div>"
      ],
      "text/plain": [
       "                            ID   category  \\\n",
       "0  macro_database_dbase_memory   ARTIFACT   \n",
       "1          comtrade_dataseries  DATAFRAME   \n",
       "\n",
       "                                         description  \n",
       "0               persistent database memory structure  \n",
       "1  Trade values of imports, exports, re-imports a...  "
      ]
     },
     "execution_count": 6,
     "metadata": {},
     "output_type": "execute_result"
    }
   ],
   "source": [
    "macro_database.get_catalog()"
   ]
  },
  {
   "cell_type": "code",
   "execution_count": 3,
   "metadata": {},
   "outputs": [],
   "source": [
    "comtrade_dataseries = ComtradeGoodsDataSeries(\"comtrade_dataseries\")\n",
    "\n",
    "macro_database.add_connected_child_node(comtrade_dataseries)"
   ]
  },
  {
   "cell_type": "markdown",
   "metadata": {},
   "source": [
    "#### Saving Database"
   ]
  },
  {
   "cell_type": "code",
   "execution_count": null,
   "metadata": {},
   "outputs": [],
   "source": [
    "macro_database.save_database_memory(access_token=access_token)"
   ]
  },
  {
   "cell_type": "markdown",
   "metadata": {},
   "source": [
    "#### Updating Procedure"
   ]
  },
  {
   "cell_type": "code",
   "execution_count": 9,
   "metadata": {},
   "outputs": [],
   "source": [
    "comtrade_dataseries = macro_database.get_child_node(\"comtrade_dataseries\")"
   ]
  },
  {
   "cell_type": "code",
   "execution_count": 11,
   "metadata": {},
   "outputs": [
    {
     "data": {
      "text/html": [
       "<div>\n",
       "<style scoped>\n",
       "    .dataframe tbody tr th:only-of-type {\n",
       "        vertical-align: middle;\n",
       "    }\n",
       "\n",
       "    .dataframe tbody tr th {\n",
       "        vertical-align: top;\n",
       "    }\n",
       "\n",
       "    .dataframe thead th {\n",
       "        text-align: right;\n",
       "    }\n",
       "</style>\n",
       "<table border=\"1\" class=\"dataframe\">\n",
       "  <thead>\n",
       "    <tr style=\"text-align: right;\">\n",
       "      <th></th>\n",
       "      <th>HSVersion</th>\n",
       "      <th>commodityCode</th>\n",
       "      <th>description</th>\n",
       "      <th>tradeValue</th>\n",
       "      <th>counterpartyEntity</th>\n",
       "      <th>tradeDirection</th>\n",
       "      <th>reportingEntity</th>\n",
       "      <th>year</th>\n",
       "    </tr>\n",
       "    <tr>\n",
       "      <th>RdfsIndex</th>\n",
       "      <th></th>\n",
       "      <th></th>\n",
       "      <th></th>\n",
       "      <th></th>\n",
       "      <th></th>\n",
       "      <th></th>\n",
       "      <th></th>\n",
       "      <th></th>\n",
       "    </tr>\n",
       "  </thead>\n",
       "  <tbody>\n",
       "    <tr>\n",
       "      <th>0</th>\n",
       "      <td>H4</td>\n",
       "      <td>030354</td>\n",
       "      <td>Fish; frozen, mackerel (Scomber scombrus, Scom...</td>\n",
       "      <td>132075</td>\n",
       "      <td>PHL</td>\n",
       "      <td>exports</td>\n",
       "      <td>FJI</td>\n",
       "      <td>2013</td>\n",
       "    </tr>\n",
       "    <tr>\n",
       "      <th>1</th>\n",
       "      <td>H4</td>\n",
       "      <td>220110</td>\n",
       "      <td>Waters; mineral and aerated, including natural...</td>\n",
       "      <td>23325</td>\n",
       "      <td>PHL</td>\n",
       "      <td>exports</td>\n",
       "      <td>FJI</td>\n",
       "      <td>2013</td>\n",
       "    </tr>\n",
       "    <tr>\n",
       "      <th>2</th>\n",
       "      <td>H4</td>\n",
       "      <td>392390</td>\n",
       "      <td>Plastics; articles for the conveyance or packi...</td>\n",
       "      <td>3029</td>\n",
       "      <td>PHL</td>\n",
       "      <td>exports</td>\n",
       "      <td>FJI</td>\n",
       "      <td>2013</td>\n",
       "    </tr>\n",
       "    <tr>\n",
       "      <th>3</th>\n",
       "      <td>H4</td>\n",
       "      <td>620449</td>\n",
       "      <td>Dresses; women's or girls', of textile materia...</td>\n",
       "      <td>8689</td>\n",
       "      <td>PHL</td>\n",
       "      <td>exports</td>\n",
       "      <td>FJI</td>\n",
       "      <td>2013</td>\n",
       "    </tr>\n",
       "    <tr>\n",
       "      <th>4</th>\n",
       "      <td>H4</td>\n",
       "      <td>890110</td>\n",
       "      <td>Cruise ships, excursion boats and similar vess...</td>\n",
       "      <td>642146</td>\n",
       "      <td>PHL</td>\n",
       "      <td>exports</td>\n",
       "      <td>FJI</td>\n",
       "      <td>2013</td>\n",
       "    </tr>\n",
       "    <tr>\n",
       "      <th>...</th>\n",
       "      <td>...</td>\n",
       "      <td>...</td>\n",
       "      <td>...</td>\n",
       "      <td>...</td>\n",
       "      <td>...</td>\n",
       "      <td>...</td>\n",
       "      <td>...</td>\n",
       "      <td>...</td>\n",
       "    </tr>\n",
       "    <tr>\n",
       "      <th>1</th>\n",
       "      <td>H4</td>\n",
       "      <td>250510</td>\n",
       "      <td>Sands; natural, silica and quartz sands, wheth...</td>\n",
       "      <td>80</td>\n",
       "      <td>ARE</td>\n",
       "      <td>re-exports</td>\n",
       "      <td>YEM</td>\n",
       "      <td>2012</td>\n",
       "    </tr>\n",
       "    <tr>\n",
       "      <th>2</th>\n",
       "      <td>H4</td>\n",
       "      <td>710812</td>\n",
       "      <td>Metals; gold, non-monetary, unwrought (but not...</td>\n",
       "      <td>37424643</td>\n",
       "      <td>ARE</td>\n",
       "      <td>re-exports</td>\n",
       "      <td>YEM</td>\n",
       "      <td>2012</td>\n",
       "    </tr>\n",
       "    <tr>\n",
       "      <th>3</th>\n",
       "      <td>H4</td>\n",
       "      <td>711719</td>\n",
       "      <td>Jewellery; imitation, (excluding cuff links an...</td>\n",
       "      <td>18669</td>\n",
       "      <td>ARE</td>\n",
       "      <td>re-exports</td>\n",
       "      <td>YEM</td>\n",
       "      <td>2012</td>\n",
       "    </tr>\n",
       "    <tr>\n",
       "      <th>4</th>\n",
       "      <td>H4</td>\n",
       "      <td>930700</td>\n",
       "      <td>Arms; swords, cutlasses, bayonets, lances and ...</td>\n",
       "      <td>6067</td>\n",
       "      <td>ARE</td>\n",
       "      <td>re-exports</td>\n",
       "      <td>YEM</td>\n",
       "      <td>2012</td>\n",
       "    </tr>\n",
       "    <tr>\n",
       "      <th>0</th>\n",
       "      <td>H4</td>\n",
       "      <td>711311</td>\n",
       "      <td>Jewellery; of silver, whether or not plated or...</td>\n",
       "      <td>192</td>\n",
       "      <td>USA</td>\n",
       "      <td>re-exports</td>\n",
       "      <td>YEM</td>\n",
       "      <td>2012</td>\n",
       "    </tr>\n",
       "  </tbody>\n",
       "</table>\n",
       "<p>189682 rows × 8 columns</p>\n",
       "</div>"
      ],
      "text/plain": [
       "          HSVersion commodityCode  \\\n",
       "RdfsIndex                           \n",
       "0                H4        030354   \n",
       "1                H4        220110   \n",
       "2                H4        392390   \n",
       "3                H4        620449   \n",
       "4                H4        890110   \n",
       "...             ...           ...   \n",
       "1                H4        250510   \n",
       "2                H4        710812   \n",
       "3                H4        711719   \n",
       "4                H4        930700   \n",
       "0                H4        711311   \n",
       "\n",
       "                                                 description  tradeValue  \\\n",
       "RdfsIndex                                                                  \n",
       "0          Fish; frozen, mackerel (Scomber scombrus, Scom...      132075   \n",
       "1          Waters; mineral and aerated, including natural...       23325   \n",
       "2          Plastics; articles for the conveyance or packi...        3029   \n",
       "3          Dresses; women's or girls', of textile materia...        8689   \n",
       "4          Cruise ships, excursion boats and similar vess...      642146   \n",
       "...                                                      ...         ...   \n",
       "1          Sands; natural, silica and quartz sands, wheth...          80   \n",
       "2          Metals; gold, non-monetary, unwrought (but not...    37424643   \n",
       "3          Jewellery; imitation, (excluding cuff links an...       18669   \n",
       "4          Arms; swords, cutlasses, bayonets, lances and ...        6067   \n",
       "0          Jewellery; of silver, whether or not plated or...         192   \n",
       "\n",
       "          counterpartyEntity tradeDirection reportingEntity  year  \n",
       "RdfsIndex                                                          \n",
       "0                        PHL        exports             FJI  2013  \n",
       "1                        PHL        exports             FJI  2013  \n",
       "2                        PHL        exports             FJI  2013  \n",
       "3                        PHL        exports             FJI  2013  \n",
       "4                        PHL        exports             FJI  2013  \n",
       "...                      ...            ...             ...   ...  \n",
       "1                        ARE     re-exports             YEM  2012  \n",
       "2                        ARE     re-exports             YEM  2012  \n",
       "3                        ARE     re-exports             YEM  2012  \n",
       "4                        ARE     re-exports             YEM  2012  \n",
       "0                        USA     re-exports             YEM  2012  \n",
       "\n",
       "[189682 rows x 8 columns]"
      ]
     },
     "execution_count": 11,
     "metadata": {},
     "output_type": "execute_result"
    }
   ],
   "source": [
    "comtrade_dataseries.read_data(access_token=access_token)"
   ]
  },
  {
   "cell_type": "code",
   "execution_count": 4,
   "metadata": {},
   "outputs": [],
   "source": [
    "update_pytasks = comtrade_dataseries.get_update_pytasks()"
   ]
  },
  {
   "cell_type": "code",
   "execution_count": 5,
   "metadata": {},
   "outputs": [],
   "source": [
    "run_pytasks_scheduler(update_pytasks, access_token=access_token)"
   ]
  },
  {
   "cell_type": "code",
   "execution_count": 18,
   "metadata": {},
   "outputs": [
    {
     "name": "stderr",
     "output_type": "stream",
     "text": [
      "c:\\Users\\jacob\\AppData\\Local\\Programs\\Python\\Python310\\lib\\inspect.py:469: FutureWarning: pandas.Float64Index is deprecated and will be removed from pandas in a future version. Use pandas.Index with the appropriate dtype instead.\n",
      "  value = getattr(object, key)\n",
      "c:\\Users\\jacob\\AppData\\Local\\Programs\\Python\\Python310\\lib\\inspect.py:469: FutureWarning: pandas.Int64Index is deprecated and will be removed from pandas in a future version. Use pandas.Index with the appropriate dtype instead.\n",
      "  value = getattr(object, key)\n",
      "c:\\Users\\jacob\\AppData\\Local\\Programs\\Python\\Python310\\lib\\inspect.py:469: FutureWarning: pandas.UInt64Index is deprecated and will be removed from pandas in a future version. Use pandas.Index with the appropriate dtype instead.\n",
      "  value = getattr(object, key)\n",
      "c:\\Users\\jacob\\AppData\\Local\\Programs\\Python\\Python310\\lib\\inspect.py:469: CryptographyDeprecationWarning: Blowfish has been deprecated\n",
      "  value = getattr(object, key)\n",
      "c:\\Users\\jacob\\AppData\\Local\\Programs\\Python\\Python310\\lib\\inspect.py:469: CryptographyDeprecationWarning: CAST5 has been deprecated\n",
      "  value = getattr(object, key)\n",
      "c:\\Users\\jacob\\AppData\\Local\\Programs\\Python\\Python310\\lib\\inspect.py:469: CryptographyDeprecationWarning: IDEA has been deprecated\n",
      "  value = getattr(object, key)\n",
      "c:\\Users\\jacob\\AppData\\Local\\Programs\\Python\\Python310\\lib\\inspect.py:469: CryptographyDeprecationWarning: SEED has been deprecated\n",
      "  value = getattr(object, key)\n"
     ]
    }
   ],
   "source": [
    "from pyutils.dependency_tracer import DependencyGraph\n",
    "import fintools\n",
    "\n",
    "macro_database.save_database_memory(access_token=access_token, dependency_graph=DependencyGraph(fintools))"
   ]
  },
  {
   "cell_type": "code",
   "execution_count": null,
   "metadata": {},
   "outputs": [],
   "source": []
  }
 ],
 "metadata": {
  "kernelspec": {
   "display_name": "Python 3.10.5 64-bit",
   "language": "python",
   "name": "python3"
  },
  "language_info": {
   "codemirror_mode": {
    "name": "ipython",
    "version": 3
   },
   "file_extension": ".py",
   "mimetype": "text/x-python",
   "name": "python",
   "nbconvert_exporter": "python",
   "pygments_lexer": "ipython3",
   "version": "3.10.5"
  },
  "orig_nbformat": 4,
  "vscode": {
   "interpreter": {
    "hash": "90d99a365a6800d6d3b874802d775db992b69c47481bfc65e12294d647a46c22"
   }
  }
 },
 "nbformat": 4,
 "nbformat_minor": 2
}
