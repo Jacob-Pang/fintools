{
 "cells": [
  {
   "cell_type": "code",
   "execution_count": 1,
   "metadata": {},
   "outputs": [],
   "source": [
    "from pyutils.pytask_scheduler import run_pytasks_scheduler\n",
    "from fintools.datareader import get_database\n",
    "from fintools.dataseries.comtrade_dataseries import ComtradeGoodsDataSeries"
   ]
  },
  {
   "cell_type": "code",
   "execution_count": 4,
   "metadata": {},
   "outputs": [],
   "source": [
    "access_token = input()"
   ]
  },
  {
   "cell_type": "code",
   "execution_count": 5,
   "metadata": {},
   "outputs": [],
   "source": [
    "macro_database = get_database(\"macro_database\")"
   ]
  },
  {
   "cell_type": "code",
   "execution_count": 6,
   "metadata": {},
   "outputs": [
    {
     "data": {
      "text/html": [
       "<div>\n",
       "<style scoped>\n",
       "    .dataframe tbody tr th:only-of-type {\n",
       "        vertical-align: middle;\n",
       "    }\n",
       "\n",
       "    .dataframe tbody tr th {\n",
       "        vertical-align: top;\n",
       "    }\n",
       "\n",
       "    .dataframe thead th {\n",
       "        text-align: right;\n",
       "    }\n",
       "</style>\n",
       "<table border=\"1\" class=\"dataframe\">\n",
       "  <thead>\n",
       "    <tr style=\"text-align: right;\">\n",
       "      <th></th>\n",
       "      <th>ID</th>\n",
       "      <th>category</th>\n",
       "      <th>description</th>\n",
       "    </tr>\n",
       "  </thead>\n",
       "  <tbody>\n",
       "    <tr>\n",
       "      <th>0</th>\n",
       "      <td>macro_database_dbase_memory</td>\n",
       "      <td>ARTIFACT</td>\n",
       "      <td>persistent database memory structure</td>\n",
       "    </tr>\n",
       "    <tr>\n",
       "      <th>1</th>\n",
       "      <td>comtrade_dataseries</td>\n",
       "      <td>DATAFRAME</td>\n",
       "      <td>Trade values of imports, exports, re-imports a...</td>\n",
       "    </tr>\n",
       "  </tbody>\n",
       "</table>\n",
       "</div>"
      ],
      "text/plain": [
       "                            ID   category  \\\n",
       "0  macro_database_dbase_memory   ARTIFACT   \n",
       "1          comtrade_dataseries  DATAFRAME   \n",
       "\n",
       "                                         description  \n",
       "0               persistent database memory structure  \n",
       "1  Trade values of imports, exports, re-imports a...  "
      ]
     },
     "execution_count": 6,
     "metadata": {},
     "output_type": "execute_result"
    }
   ],
   "source": [
    "macro_database.get_catalog()"
   ]
  },
  {
   "cell_type": "code",
   "execution_count": 3,
   "metadata": {},
   "outputs": [],
   "source": [
    "comtrade_dataseries = ComtradeGoodsDataSeries(\"comtrade_dataseries\")\n",
    "\n",
    "macro_database.add_connected_child_node(comtrade_dataseries)"
   ]
  },
  {
   "cell_type": "markdown",
   "metadata": {},
   "source": [
    "#### Saving Database"
   ]
  },
  {
   "cell_type": "code",
   "execution_count": null,
   "metadata": {},
   "outputs": [],
   "source": [
    "macro_database.save_database_memory(access_token=access_token)"
   ]
  },
  {
   "cell_type": "markdown",
   "metadata": {},
   "source": [
    "#### Updating Procedure"
   ]
  },
  {
   "cell_type": "code",
   "execution_count": null,
   "metadata": {},
   "outputs": [],
   "source": [
    "macro_database = get_database(\"macro_database\")"
   ]
  },
  {
   "cell_type": "code",
   "execution_count": 9,
   "metadata": {},
   "outputs": [],
   "source": [
    "comtrade_dataseries = macro_database.get_child_node(\"comtrade_dataseries\")"
   ]
  },
  {
   "cell_type": "code",
   "execution_count": 4,
   "metadata": {},
   "outputs": [],
   "source": [
    "update_pytasks = comtrade_dataseries.get_update_pytasks()"
   ]
  },
  {
   "cell_type": "code",
   "execution_count": 5,
   "metadata": {},
   "outputs": [],
   "source": [
    "run_pytasks_scheduler(update_pytasks, access_token=access_token)"
   ]
  },
  {
   "cell_type": "code",
   "execution_count": 18,
   "metadata": {},
   "outputs": [
    {
     "name": "stderr",
     "output_type": "stream",
     "text": [
      "c:\\Users\\jacob\\AppData\\Local\\Programs\\Python\\Python310\\lib\\inspect.py:469: FutureWarning: pandas.Float64Index is deprecated and will be removed from pandas in a future version. Use pandas.Index with the appropriate dtype instead.\n",
      "  value = getattr(object, key)\n",
      "c:\\Users\\jacob\\AppData\\Local\\Programs\\Python\\Python310\\lib\\inspect.py:469: FutureWarning: pandas.Int64Index is deprecated and will be removed from pandas in a future version. Use pandas.Index with the appropriate dtype instead.\n",
      "  value = getattr(object, key)\n",
      "c:\\Users\\jacob\\AppData\\Local\\Programs\\Python\\Python310\\lib\\inspect.py:469: FutureWarning: pandas.UInt64Index is deprecated and will be removed from pandas in a future version. Use pandas.Index with the appropriate dtype instead.\n",
      "  value = getattr(object, key)\n",
      "c:\\Users\\jacob\\AppData\\Local\\Programs\\Python\\Python310\\lib\\inspect.py:469: CryptographyDeprecationWarning: Blowfish has been deprecated\n",
      "  value = getattr(object, key)\n",
      "c:\\Users\\jacob\\AppData\\Local\\Programs\\Python\\Python310\\lib\\inspect.py:469: CryptographyDeprecationWarning: CAST5 has been deprecated\n",
      "  value = getattr(object, key)\n",
      "c:\\Users\\jacob\\AppData\\Local\\Programs\\Python\\Python310\\lib\\inspect.py:469: CryptographyDeprecationWarning: IDEA has been deprecated\n",
      "  value = getattr(object, key)\n",
      "c:\\Users\\jacob\\AppData\\Local\\Programs\\Python\\Python310\\lib\\inspect.py:469: CryptographyDeprecationWarning: SEED has been deprecated\n",
      "  value = getattr(object, key)\n"
     ]
    }
   ],
   "source": [
    "macro_database.save_database_memory(access_token=access_token)"
   ]
  }
 ],
 "metadata": {
  "kernelspec": {
   "display_name": "Python 3.10.5 64-bit",
   "language": "python",
   "name": "python3"
  },
  "language_info": {
   "codemirror_mode": {
    "name": "ipython",
    "version": 3
   },
   "file_extension": ".py",
   "mimetype": "text/x-python",
   "name": "python",
   "nbconvert_exporter": "python",
   "pygments_lexer": "ipython3",
   "version": "3.10.5"
  },
  "orig_nbformat": 4,
  "vscode": {
   "interpreter": {
    "hash": "90d99a365a6800d6d3b874802d775db992b69c47481bfc65e12294d647a46c22"
   }
  }
 },
 "nbformat": 4,
 "nbformat_minor": 2
}
