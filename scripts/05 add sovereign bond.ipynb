{
 "cells": [
  {
   "cell_type": "code",
   "execution_count": 1,
   "metadata": {},
   "outputs": [],
   "source": [
    "import datetime\n",
    "import os\n",
    "import pandas as pd\n",
    "\n",
    "from fintools.datareader import get_root_database\n",
    "from pyutils.database.github_database.github_dataframe import GitHubDataFrame\n",
    "from webscraping.marketwatch import scrape_marketwatch_ticker_history\n",
    "from pyutils.selenium_ext.websurfer.chrome import ChromeSurfer"
   ]
  },
  {
   "cell_type": "code",
   "execution_count": 2,
   "metadata": {},
   "outputs": [],
   "source": [
    "bin_dpath = os.path.join(os.path.dirname(os.getcwd()), \"bin\")"
   ]
  },
  {
   "cell_type": "code",
   "execution_count": 3,
   "metadata": {},
   "outputs": [
    {
     "data": {
      "text/html": [
       "<div>\n",
       "<style scoped>\n",
       "    .dataframe tbody tr th:only-of-type {\n",
       "        vertical-align: middle;\n",
       "    }\n",
       "\n",
       "    .dataframe tbody tr th {\n",
       "        vertical-align: top;\n",
       "    }\n",
       "\n",
       "    .dataframe thead th {\n",
       "        text-align: right;\n",
       "    }\n",
       "</style>\n",
       "<table border=\"1\" class=\"dataframe\">\n",
       "  <thead>\n",
       "    <tr style=\"text-align: right;\">\n",
       "      <th></th>\n",
       "      <th>entity</th>\n",
       "      <th>maturityMonths</th>\n",
       "      <th>ticker</th>\n",
       "    </tr>\n",
       "  </thead>\n",
       "  <tbody>\n",
       "    <tr>\n",
       "      <th>0</th>\n",
       "      <td>AUS</td>\n",
       "      <td>12</td>\n",
       "      <td>TMBMKAU-01Y</td>\n",
       "    </tr>\n",
       "    <tr>\n",
       "      <th>1</th>\n",
       "      <td>AUS</td>\n",
       "      <td>24</td>\n",
       "      <td>TMBMKAU-02Y</td>\n",
       "    </tr>\n",
       "    <tr>\n",
       "      <th>2</th>\n",
       "      <td>AUS</td>\n",
       "      <td>36</td>\n",
       "      <td>TMBMKAU-03Y</td>\n",
       "    </tr>\n",
       "    <tr>\n",
       "      <th>3</th>\n",
       "      <td>AUS</td>\n",
       "      <td>48</td>\n",
       "      <td>TMBMKAU-04Y</td>\n",
       "    </tr>\n",
       "    <tr>\n",
       "      <th>4</th>\n",
       "      <td>AUS</td>\n",
       "      <td>60</td>\n",
       "      <td>TMBMKAU-05Y</td>\n",
       "    </tr>\n",
       "    <tr>\n",
       "      <th>...</th>\n",
       "      <td>...</td>\n",
       "      <td>...</td>\n",
       "      <td>...</td>\n",
       "    </tr>\n",
       "    <tr>\n",
       "      <th>262</th>\n",
       "      <td>USA</td>\n",
       "      <td>60</td>\n",
       "      <td>TMUBMUSD05Y</td>\n",
       "    </tr>\n",
       "    <tr>\n",
       "      <th>263</th>\n",
       "      <td>USA</td>\n",
       "      <td>84</td>\n",
       "      <td>TMUBMUSD07Y</td>\n",
       "    </tr>\n",
       "    <tr>\n",
       "      <th>264</th>\n",
       "      <td>USA</td>\n",
       "      <td>120</td>\n",
       "      <td>TMUBMUSD10Y</td>\n",
       "    </tr>\n",
       "    <tr>\n",
       "      <th>265</th>\n",
       "      <td>USA</td>\n",
       "      <td>240</td>\n",
       "      <td>TMUBMUSD20Y</td>\n",
       "    </tr>\n",
       "    <tr>\n",
       "      <th>266</th>\n",
       "      <td>USA</td>\n",
       "      <td>360</td>\n",
       "      <td>TMUBMUSD30Y</td>\n",
       "    </tr>\n",
       "  </tbody>\n",
       "</table>\n",
       "<p>267 rows × 3 columns</p>\n",
       "</div>"
      ],
      "text/plain": [
       "    entity  maturityMonths       ticker\n",
       "0      AUS              12  TMBMKAU-01Y\n",
       "1      AUS              24  TMBMKAU-02Y\n",
       "2      AUS              36  TMBMKAU-03Y\n",
       "3      AUS              48  TMBMKAU-04Y\n",
       "4      AUS              60  TMBMKAU-05Y\n",
       "..     ...             ...          ...\n",
       "262    USA              60  TMUBMUSD05Y\n",
       "263    USA              84  TMUBMUSD07Y\n",
       "264    USA             120  TMUBMUSD10Y\n",
       "265    USA             240  TMUBMUSD20Y\n",
       "266    USA             360  TMUBMUSD30Y\n",
       "\n",
       "[267 rows x 3 columns]"
      ]
     },
     "execution_count": 3,
     "metadata": {},
     "output_type": "execute_result"
    }
   ],
   "source": [
    "pdf = pd.read_csv(os.path.join(bin_dpath, \"sovereign_bond_tickers.csv\"))\n",
    "pdf"
   ]
  },
  {
   "cell_type": "code",
   "execution_count": 4,
   "metadata": {},
   "outputs": [],
   "source": [
    "websurfer = ChromeSurfer()"
   ]
  },
  {
   "cell_type": "code",
   "execution_count": 5,
   "metadata": {},
   "outputs": [
    {
     "ename": "WebDriverException",
     "evalue": "Message: unknown error: cannot determine loading status\nfrom unknown error: unexpected command response\n  (Session info: chrome=103.0.5060.114)\nStacktrace:\nBacktrace:\n\tOrdinal0 [0x01016463+2188387]\n\tOrdinal0 [0x00FAE461+1762401]\n\tOrdinal0 [0x00EC3D78+802168]\n\tOrdinal0 [0x00EB7210+750096]\n\tOrdinal0 [0x00EB675A+747354]\n\tOrdinal0 [0x00EB5D3F+744767]\n\tOrdinal0 [0x00EB4C28+740392]\n\tOrdinal0 [0x00EB5228+741928]\n\tOrdinal0 [0x00EBEF2F+782127]\n\tOrdinal0 [0x00EC9FBB+827323]\n\tOrdinal0 [0x00ECD310+840464]\n\tOrdinal0 [0x00EB54F6+742646]\n\tOrdinal0 [0x00EC9BF3+826355]\n\tOrdinal0 [0x00F1CB47+1166151]\n\tOrdinal0 [0x00F0C5F6+1099254]\n\tOrdinal0 [0x00EE6BE0+945120]\n\tOrdinal0 [0x00EE7AD6+948950]\n\tGetHandleVerifier [0x012B71F2+2712546]\n\tGetHandleVerifier [0x012A886D+2652765]\n\tGetHandleVerifier [0x010A002A+520730]\n\tGetHandleVerifier [0x0109EE06+516086]\n\tOrdinal0 [0x00FB468B+1787531]\n\tOrdinal0 [0x00FB8E88+1805960]\n\tOrdinal0 [0x00FB8F75+1806197]\n\tOrdinal0 [0x00FC1DF1+1842673]\n\tBaseThreadInitThunk [0x75426739+25]\n\tRtlGetFullPathName_UEx [0x77258FEF+1215]\n\tRtlGetFullPathName_UEx [0x77258FBD+1165]\n",
     "output_type": "error",
     "traceback": [
      "\u001b[1;31m---------------------------------------------------------------------------\u001b[0m",
      "\u001b[1;31mWebDriverException\u001b[0m                        Traceback (most recent call last)",
      "\u001b[1;32mc:\\Users\\jacob\\OneDrive\\Desktop\\repositories\\fintools\\scripts\\05 add sovereign bond.ipynb Cell 5\u001b[0m in \u001b[0;36m<cell line: 1>\u001b[1;34m()\u001b[0m\n\u001b[0;32m      <a href='vscode-notebook-cell:/c%3A/Users/jacob/OneDrive/Desktop/repositories/fintools/scripts/05%20add%20sovereign%20bond.ipynb#ch0000004?line=1'>2</a>\u001b[0m \u001b[39mif\u001b[39;00m os\u001b[39m.\u001b[39mpath\u001b[39m.\u001b[39mexists(os\u001b[39m.\u001b[39mpath\u001b[39m.\u001b[39mjoin(bin_dpath, \u001b[39mf\u001b[39m\u001b[39m\"\u001b[39m\u001b[39m{\u001b[39;00mticker\u001b[39m}\u001b[39;00m\u001b[39m.csv\u001b[39m\u001b[39m\"\u001b[39m)):\n\u001b[0;32m      <a href='vscode-notebook-cell:/c%3A/Users/jacob/OneDrive/Desktop/repositories/fintools/scripts/05%20add%20sovereign%20bond.ipynb#ch0000004?line=2'>3</a>\u001b[0m     \u001b[39mcontinue\u001b[39;00m\n\u001b[1;32m----> <a href='vscode-notebook-cell:/c%3A/Users/jacob/OneDrive/Desktop/repositories/fintools/scripts/05%20add%20sovereign%20bond.ipynb#ch0000004?line=5'>6</a>\u001b[0m _pdf \u001b[39m=\u001b[39m scrape_marketwatch_ticker_history(ticker, ticker_category\u001b[39m=\u001b[39;49m\u001b[39m\"\u001b[39;49m\u001b[39mbond\u001b[39;49m\u001b[39m\"\u001b[39;49m, start_date\u001b[39m=\u001b[39;49mdatetime\u001b[39m.\u001b[39;49mdate(\u001b[39m1990\u001b[39;49m, \u001b[39m1\u001b[39;49m, \u001b[39m1\u001b[39;49m),\n\u001b[0;32m      <a href='vscode-notebook-cell:/c%3A/Users/jacob/OneDrive/Desktop/repositories/fintools/scripts/05%20add%20sovereign%20bond.ipynb#ch0000004?line=6'>7</a>\u001b[0m         websurfer\u001b[39m=\u001b[39;49mwebsurfer)\n\u001b[0;32m      <a href='vscode-notebook-cell:/c%3A/Users/jacob/OneDrive/Desktop/repositories/fintools/scripts/05%20add%20sovereign%20bond.ipynb#ch0000004?line=8'>9</a>\u001b[0m _pdf\u001b[39m.\u001b[39mto_csv(os\u001b[39m.\u001b[39mpath\u001b[39m.\u001b[39mjoin(bin_dpath, \u001b[39mf\u001b[39m\u001b[39m\"\u001b[39m\u001b[39m{\u001b[39;00mticker\u001b[39m}\u001b[39;00m\u001b[39m.csv\u001b[39m\u001b[39m\"\u001b[39m))\n",
      "File \u001b[1;32mc:\\Users\\jacob\\OneDrive\\Desktop\\repositories\\fintools\\scripts\\webscraping\\marketwatch.py:51\u001b[0m, in \u001b[0;36mscrape_marketwatch_ticker_history\u001b[1;34m(ticker, ticker_category, start_date, end_date, websurfer)\u001b[0m\n\u001b[0;32m     48\u001b[0m websurfer\u001b[39m.\u001b[39mpause(\u001b[39m2\u001b[39m)\n\u001b[0;32m     50\u001b[0m \u001b[39m# Setting custom date range\u001b[39;00m\n\u001b[1;32m---> 51\u001b[0m start_date_input \u001b[39m=\u001b[39m websurfer\u001b[39m.\u001b[39;49mfind_element(By\u001b[39m.\u001b[39;49mXPATH, \u001b[39m\"\u001b[39;49m\u001b[39m//input[@name=\u001b[39;49m\u001b[39m'\u001b[39;49m\u001b[39mstartdate\u001b[39;49m\u001b[39m'\u001b[39;49m\u001b[39m]\u001b[39;49m\u001b[39m\"\u001b[39;49m)\n\u001b[0;32m     52\u001b[0m websurfer\u001b[39m.\u001b[39mexecute_script(\u001b[39m\"\u001b[39m\u001b[39marguments[0].setAttribute(\u001b[39m\u001b[39m'\u001b[39m\u001b[39mvalue\u001b[39m\u001b[39m'\u001b[39m\u001b[39m, arguments[1])\u001b[39m\u001b[39m\"\u001b[39m, start_date_input,\n\u001b[0;32m     53\u001b[0m         start_date\u001b[39m.\u001b[39mstrftime(\u001b[39mr\u001b[39m\u001b[39m\"\u001b[39m\u001b[39m%\u001b[39m\u001b[39mm/\u001b[39m\u001b[39m%d\u001b[39;00m\u001b[39m/\u001b[39m\u001b[39m%\u001b[39m\u001b[39mY\u001b[39m\u001b[39m\"\u001b[39m))\n\u001b[0;32m     55\u001b[0m end_date_input \u001b[39m=\u001b[39m websurfer\u001b[39m.\u001b[39mfind_element(By\u001b[39m.\u001b[39mXPATH, \u001b[39m\"\u001b[39m\u001b[39m//input[@name=\u001b[39m\u001b[39m'\u001b[39m\u001b[39menddate\u001b[39m\u001b[39m'\u001b[39m\u001b[39m]\u001b[39m\u001b[39m\"\u001b[39m)\n",
      "File \u001b[1;32mc:\\Users\\jacob\\AppData\\Local\\Programs\\Python\\Python310\\lib\\site-packages\\pyutils\\selenium_ext\\websurfer\\__init__.py:57\u001b[0m, in \u001b[0;36mbusy_waiting_execution.<locals>.wrapped_method\u001b[1;34m(timeout, request_freq, ignore_exception, *args, **kwargs)\u001b[0m\n\u001b[0;32m     54\u001b[0m         timeout \u001b[39m=\u001b[39m timeout \u001b[39m-\u001b[39m request_freq \u001b[39m-\u001b[39m (time\u001b[39m.\u001b[39mtime() \u001b[39m-\u001b[39m pre_request_time)\n\u001b[0;32m     56\u001b[0m \u001b[39mif\u001b[39;00m \u001b[39mnot\u001b[39;00m execution_state:\n\u001b[1;32m---> 57\u001b[0m     \u001b[39mraise\u001b[39;00m exception_trace\n\u001b[0;32m     59\u001b[0m \u001b[39mif\u001b[39;00m \u001b[39mnot\u001b[39;00m wrap_output_types \u001b[39mis\u001b[39;00m \u001b[39mNone\u001b[39;00m \u001b[39mand\u001b[39;00m \u001b[39misinstance\u001b[39m(output, wrap_output_types):\n\u001b[0;32m     60\u001b[0m     wrap_methods(output, busy_waiting_execution,\n\u001b[0;32m     61\u001b[0m             wrap_output_types\u001b[39m=\u001b[39mwrap_output_types)\n",
      "File \u001b[1;32mc:\\Users\\jacob\\AppData\\Local\\Programs\\Python\\Python310\\lib\\site-packages\\pyutils\\selenium_ext\\websurfer\\__init__.py:43\u001b[0m, in \u001b[0;36mbusy_waiting_execution.<locals>.wrapped_method\u001b[1;34m(timeout, request_freq, ignore_exception, *args, **kwargs)\u001b[0m\n\u001b[0;32m     40\u001b[0m pre_request_time \u001b[39m=\u001b[39m time\u001b[39m.\u001b[39mtime()\n\u001b[0;32m     42\u001b[0m \u001b[39mtry\u001b[39;00m:\n\u001b[1;32m---> 43\u001b[0m     output \u001b[39m=\u001b[39m method(\u001b[39m*\u001b[39margs, \u001b[39m*\u001b[39m\u001b[39m*\u001b[39mkwargs)\n\u001b[0;32m     44\u001b[0m     execution_state \u001b[39m=\u001b[39m \u001b[39mTrue\u001b[39;00m\n\u001b[0;32m     45\u001b[0m     \u001b[39mbreak\u001b[39;00m\n",
      "File \u001b[1;32mc:\\Users\\jacob\\AppData\\Local\\Programs\\Python\\Python310\\lib\\site-packages\\selenium\\webdriver\\remote\\webdriver.py:1251\u001b[0m, in \u001b[0;36mWebDriver.find_element\u001b[1;34m(self, by, value)\u001b[0m\n\u001b[0;32m   1248\u001b[0m     by \u001b[39m=\u001b[39m By\u001b[39m.\u001b[39mCSS_SELECTOR\n\u001b[0;32m   1249\u001b[0m     value \u001b[39m=\u001b[39m \u001b[39m'\u001b[39m\u001b[39m[name=\u001b[39m\u001b[39m\"\u001b[39m\u001b[39m%s\u001b[39;00m\u001b[39m\"\u001b[39m\u001b[39m]\u001b[39m\u001b[39m'\u001b[39m \u001b[39m%\u001b[39m value\n\u001b[1;32m-> 1251\u001b[0m \u001b[39mreturn\u001b[39;00m \u001b[39mself\u001b[39;49m\u001b[39m.\u001b[39;49mexecute(Command\u001b[39m.\u001b[39;49mFIND_ELEMENT, {\n\u001b[0;32m   1252\u001b[0m     \u001b[39m'\u001b[39;49m\u001b[39musing\u001b[39;49m\u001b[39m'\u001b[39;49m: by,\n\u001b[0;32m   1253\u001b[0m     \u001b[39m'\u001b[39;49m\u001b[39mvalue\u001b[39;49m\u001b[39m'\u001b[39;49m: value})[\u001b[39m'\u001b[39m\u001b[39mvalue\u001b[39m\u001b[39m'\u001b[39m]\n",
      "File \u001b[1;32mc:\\Users\\jacob\\AppData\\Local\\Programs\\Python\\Python310\\lib\\site-packages\\pyutils\\selenium_ext\\websurfer\\__init__.py:57\u001b[0m, in \u001b[0;36mbusy_waiting_execution.<locals>.wrapped_method\u001b[1;34m(timeout, request_freq, ignore_exception, *args, **kwargs)\u001b[0m\n\u001b[0;32m     54\u001b[0m         timeout \u001b[39m=\u001b[39m timeout \u001b[39m-\u001b[39m request_freq \u001b[39m-\u001b[39m (time\u001b[39m.\u001b[39mtime() \u001b[39m-\u001b[39m pre_request_time)\n\u001b[0;32m     56\u001b[0m \u001b[39mif\u001b[39;00m \u001b[39mnot\u001b[39;00m execution_state:\n\u001b[1;32m---> 57\u001b[0m     \u001b[39mraise\u001b[39;00m exception_trace\n\u001b[0;32m     59\u001b[0m \u001b[39mif\u001b[39;00m \u001b[39mnot\u001b[39;00m wrap_output_types \u001b[39mis\u001b[39;00m \u001b[39mNone\u001b[39;00m \u001b[39mand\u001b[39;00m \u001b[39misinstance\u001b[39m(output, wrap_output_types):\n\u001b[0;32m     60\u001b[0m     wrap_methods(output, busy_waiting_execution,\n\u001b[0;32m     61\u001b[0m             wrap_output_types\u001b[39m=\u001b[39mwrap_output_types)\n",
      "File \u001b[1;32mc:\\Users\\jacob\\AppData\\Local\\Programs\\Python\\Python310\\lib\\site-packages\\pyutils\\selenium_ext\\websurfer\\__init__.py:43\u001b[0m, in \u001b[0;36mbusy_waiting_execution.<locals>.wrapped_method\u001b[1;34m(timeout, request_freq, ignore_exception, *args, **kwargs)\u001b[0m\n\u001b[0;32m     40\u001b[0m pre_request_time \u001b[39m=\u001b[39m time\u001b[39m.\u001b[39mtime()\n\u001b[0;32m     42\u001b[0m \u001b[39mtry\u001b[39;00m:\n\u001b[1;32m---> 43\u001b[0m     output \u001b[39m=\u001b[39m method(\u001b[39m*\u001b[39margs, \u001b[39m*\u001b[39m\u001b[39m*\u001b[39mkwargs)\n\u001b[0;32m     44\u001b[0m     execution_state \u001b[39m=\u001b[39m \u001b[39mTrue\u001b[39;00m\n\u001b[0;32m     45\u001b[0m     \u001b[39mbreak\u001b[39;00m\n",
      "File \u001b[1;32mc:\\Users\\jacob\\AppData\\Local\\Programs\\Python\\Python310\\lib\\site-packages\\selenium\\webdriver\\remote\\webdriver.py:430\u001b[0m, in \u001b[0;36mWebDriver.execute\u001b[1;34m(self, driver_command, params)\u001b[0m\n\u001b[0;32m    428\u001b[0m response \u001b[39m=\u001b[39m \u001b[39mself\u001b[39m\u001b[39m.\u001b[39mcommand_executor\u001b[39m.\u001b[39mexecute(driver_command, params)\n\u001b[0;32m    429\u001b[0m \u001b[39mif\u001b[39;00m response:\n\u001b[1;32m--> 430\u001b[0m     \u001b[39mself\u001b[39;49m\u001b[39m.\u001b[39;49merror_handler\u001b[39m.\u001b[39;49mcheck_response(response)\n\u001b[0;32m    431\u001b[0m     response[\u001b[39m'\u001b[39m\u001b[39mvalue\u001b[39m\u001b[39m'\u001b[39m] \u001b[39m=\u001b[39m \u001b[39mself\u001b[39m\u001b[39m.\u001b[39m_unwrap_value(\n\u001b[0;32m    432\u001b[0m         response\u001b[39m.\u001b[39mget(\u001b[39m'\u001b[39m\u001b[39mvalue\u001b[39m\u001b[39m'\u001b[39m, \u001b[39mNone\u001b[39;00m))\n\u001b[0;32m    433\u001b[0m     \u001b[39mreturn\u001b[39;00m response\n",
      "File \u001b[1;32mc:\\Users\\jacob\\AppData\\Local\\Programs\\Python\\Python310\\lib\\site-packages\\selenium\\webdriver\\remote\\errorhandler.py:247\u001b[0m, in \u001b[0;36mErrorHandler.check_response\u001b[1;34m(self, response)\u001b[0m\n\u001b[0;32m    245\u001b[0m         alert_text \u001b[39m=\u001b[39m value[\u001b[39m'\u001b[39m\u001b[39malert\u001b[39m\u001b[39m'\u001b[39m]\u001b[39m.\u001b[39mget(\u001b[39m'\u001b[39m\u001b[39mtext\u001b[39m\u001b[39m'\u001b[39m)\n\u001b[0;32m    246\u001b[0m     \u001b[39mraise\u001b[39;00m exception_class(message, screen, stacktrace, alert_text)  \u001b[39m# type: ignore[call-arg]  # mypy is not smart enough here\u001b[39;00m\n\u001b[1;32m--> 247\u001b[0m \u001b[39mraise\u001b[39;00m exception_class(message, screen, stacktrace)\n",
      "\u001b[1;31mWebDriverException\u001b[0m: Message: unknown error: cannot determine loading status\nfrom unknown error: unexpected command response\n  (Session info: chrome=103.0.5060.114)\nStacktrace:\nBacktrace:\n\tOrdinal0 [0x01016463+2188387]\n\tOrdinal0 [0x00FAE461+1762401]\n\tOrdinal0 [0x00EC3D78+802168]\n\tOrdinal0 [0x00EB7210+750096]\n\tOrdinal0 [0x00EB675A+747354]\n\tOrdinal0 [0x00EB5D3F+744767]\n\tOrdinal0 [0x00EB4C28+740392]\n\tOrdinal0 [0x00EB5228+741928]\n\tOrdinal0 [0x00EBEF2F+782127]\n\tOrdinal0 [0x00EC9FBB+827323]\n\tOrdinal0 [0x00ECD310+840464]\n\tOrdinal0 [0x00EB54F6+742646]\n\tOrdinal0 [0x00EC9BF3+826355]\n\tOrdinal0 [0x00F1CB47+1166151]\n\tOrdinal0 [0x00F0C5F6+1099254]\n\tOrdinal0 [0x00EE6BE0+945120]\n\tOrdinal0 [0x00EE7AD6+948950]\n\tGetHandleVerifier [0x012B71F2+2712546]\n\tGetHandleVerifier [0x012A886D+2652765]\n\tGetHandleVerifier [0x010A002A+520730]\n\tGetHandleVerifier [0x0109EE06+516086]\n\tOrdinal0 [0x00FB468B+1787531]\n\tOrdinal0 [0x00FB8E88+1805960]\n\tOrdinal0 [0x00FB8F75+1806197]\n\tOrdinal0 [0x00FC1DF1+1842673]\n\tBaseThreadInitThunk [0x75426739+25]\n\tRtlGetFullPathName_UEx [0x77258FEF+1215]\n\tRtlGetFullPathName_UEx [0x77258FBD+1165]\n"
     ]
    }
   ],
   "source": [
    "\n",
    "for ticker in pdf[\"ticker\"]:\n",
    "    if os.path.exists(os.path.join(bin_dpath, f\"{ticker}.csv\")):\n",
    "        continue\n",
    "\n",
    "\n",
    "    _pdf = scrape_marketwatch_ticker_history(ticker, ticker_category=\"bond\", start_date=datetime.date(1990, 1, 1),\n",
    "            websurfer=websurfer)\n",
    "    \n",
    "    _pdf.to_csv(os.path.join(bin_dpath, f\"{ticker}.csv\"))"
   ]
  },
  {
   "cell_type": "code",
   "execution_count": null,
   "metadata": {},
   "outputs": [],
   "source": []
  }
 ],
 "metadata": {
  "kernelspec": {
   "display_name": "Python 3.10.5 64-bit",
   "language": "python",
   "name": "python3"
  },
  "language_info": {
   "codemirror_mode": {
    "name": "ipython",
    "version": 3
   },
   "file_extension": ".py",
   "mimetype": "text/x-python",
   "name": "python",
   "nbconvert_exporter": "python",
   "pygments_lexer": "ipython3",
   "version": "3.10.5"
  },
  "orig_nbformat": 4,
  "vscode": {
   "interpreter": {
    "hash": "90d99a365a6800d6d3b874802d775db992b69c47481bfc65e12294d647a46c22"
   }
  }
 },
 "nbformat": 4,
 "nbformat_minor": 2
}
