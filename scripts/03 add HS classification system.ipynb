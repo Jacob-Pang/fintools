{
 "cells": [
  {
   "cell_type": "code",
   "execution_count": 14,
   "metadata": {},
   "outputs": [],
   "source": [
    "import os\n",
    "import pandas as pd\n",
    "\n",
    "from pyutils.database.dataframe_query import HashKeyQuery\n",
    "from pyutils.database.github_database.github_dataframe import GitHubDataFrame\n",
    "from fintools.datareader import get_root_database"
   ]
  },
  {
   "cell_type": "code",
   "execution_count": 9,
   "metadata": {},
   "outputs": [],
   "source": [
    "access_token = input()"
   ]
  },
  {
   "cell_type": "code",
   "execution_count": 13,
   "metadata": {},
   "outputs": [],
   "source": [
    "bin_dpath = os.path.join(os.path.dirname(os.getcwd()), \"bin\")"
   ]
  },
  {
   "cell_type": "code",
   "execution_count": 3,
   "metadata": {},
   "outputs": [],
   "source": [
    "root_database = get_root_database()"
   ]
  },
  {
   "cell_type": "markdown",
   "metadata": {},
   "source": [
    "#### Initialize HS-Switching Query"
   ]
  },
  {
   "cell_type": "code",
   "execution_count": 6,
   "metadata": {},
   "outputs": [],
   "source": [
    "hs_metadata_query = HashKeyQuery(\n",
    "    \"hs_metadata_query\",\n",
    "    description=\"Abstraction for querying Harmonized System (HS) metadata based on version.\"\n",
    ")"
   ]
  },
  {
   "cell_type": "code",
   "execution_count": 7,
   "metadata": {},
   "outputs": [],
   "source": [
    "root_database.add_child_node(hs_metadata_query)"
   ]
  },
  {
   "cell_type": "markdown",
   "metadata": {},
   "source": [
    "#### Add HS5 Metadata"
   ]
  },
  {
   "cell_type": "code",
   "execution_count": 15,
   "metadata": {},
   "outputs": [],
   "source": [
    "hs5_metadata_node = GitHubDataFrame(\n",
    "    \"hs5_metadata\",\n",
    "    description=\"Metadata for Harmonized System (HS) version 5 (2017).\",\n",
    "    data_source=\"https://wcoomd.org\"\n",
    ")\n",
    "\n",
    "root_database.add_connected_child_node(hs5_metadata_node, relative_dpath=\"metadata\")\n",
    "hs5_metadata_pdf = pd.read_csv(os.path.join(bin_dpath, \"hs5_metadata.csv\"))\n",
    "\n",
    "hs5_metadata_node.save_data(hs5_metadata_pdf, access_token=access_token)"
   ]
  },
  {
   "cell_type": "code",
   "execution_count": 16,
   "metadata": {},
   "outputs": [],
   "source": [
    "hs_metadata_query.add_child_node(hs5_metadata_node, \"H5\")"
   ]
  },
  {
   "cell_type": "code",
   "execution_count": 17,
   "metadata": {},
   "outputs": [],
   "source": [
    "root_database.save_database_memory(access_token=access_token)"
   ]
  },
  {
   "cell_type": "markdown",
   "metadata": {},
   "source": [
    "#### Saving Database"
   ]
  },
  {
   "cell_type": "code",
   "execution_count": null,
   "metadata": {},
   "outputs": [],
   "source": [
    "root_database.save_database_memory(access_token=access_token)"
   ]
  },
  {
   "cell_type": "markdown",
   "metadata": {},
   "source": [
    "#### Check Update"
   ]
  },
  {
   "cell_type": "code",
   "execution_count": 28,
   "metadata": {},
   "outputs": [
    {
     "data": {
      "text/html": [
       "<div>\n",
       "<style scoped>\n",
       "    .dataframe tbody tr th:only-of-type {\n",
       "        vertical-align: middle;\n",
       "    }\n",
       "\n",
       "    .dataframe tbody tr th {\n",
       "        vertical-align: top;\n",
       "    }\n",
       "\n",
       "    .dataframe thead th {\n",
       "        text-align: right;\n",
       "    }\n",
       "</style>\n",
       "<table border=\"1\" class=\"dataframe\">\n",
       "  <thead>\n",
       "    <tr style=\"text-align: right;\">\n",
       "      <th></th>\n",
       "      <th>HSVersionCode</th>\n",
       "      <th>commodityCode</th>\n",
       "      <th>aggregationLevelFactor</th>\n",
       "      <th>description</th>\n",
       "    </tr>\n",
       "    <tr>\n",
       "      <th>RdfsIndex</th>\n",
       "      <th></th>\n",
       "      <th></th>\n",
       "      <th></th>\n",
       "      <th></th>\n",
       "    </tr>\n",
       "  </thead>\n",
       "  <tbody>\n",
       "    <tr>\n",
       "      <th>0</th>\n",
       "      <td>5010000</td>\n",
       "      <td>1</td>\n",
       "      <td>4</td>\n",
       "      <td>Live animals</td>\n",
       "    </tr>\n",
       "    <tr>\n",
       "      <th>1</th>\n",
       "      <td>5010100</td>\n",
       "      <td>101</td>\n",
       "      <td>2</td>\n",
       "      <td>Live horses, asses, mules and hinnies</td>\n",
       "    </tr>\n",
       "    <tr>\n",
       "      <th>2</th>\n",
       "      <td>5010200</td>\n",
       "      <td>102</td>\n",
       "      <td>2</td>\n",
       "      <td>Live bovine animals</td>\n",
       "    </tr>\n",
       "    <tr>\n",
       "      <th>3</th>\n",
       "      <td>5010300</td>\n",
       "      <td>103</td>\n",
       "      <td>2</td>\n",
       "      <td>Live swine</td>\n",
       "    </tr>\n",
       "    <tr>\n",
       "      <th>4</th>\n",
       "      <td>5010400</td>\n",
       "      <td>104</td>\n",
       "      <td>2</td>\n",
       "      <td>Live sheep and goats</td>\n",
       "    </tr>\n",
       "    <tr>\n",
       "      <th>...</th>\n",
       "      <td>...</td>\n",
       "      <td>...</td>\n",
       "      <td>...</td>\n",
       "      <td>...</td>\n",
       "    </tr>\n",
       "    <tr>\n",
       "      <th>1316</th>\n",
       "      <td>5970400</td>\n",
       "      <td>9704</td>\n",
       "      <td>2</td>\n",
       "      <td>Postage or revenue stamps, stamp-postmarks, fi...</td>\n",
       "    </tr>\n",
       "    <tr>\n",
       "      <th>1317</th>\n",
       "      <td>5970500</td>\n",
       "      <td>9705</td>\n",
       "      <td>2</td>\n",
       "      <td>Collections and collectors' pieces of zoologic...</td>\n",
       "    </tr>\n",
       "    <tr>\n",
       "      <th>1318</th>\n",
       "      <td>5970600</td>\n",
       "      <td>9706</td>\n",
       "      <td>2</td>\n",
       "      <td>Antiques of an age exceeding 100 years</td>\n",
       "    </tr>\n",
       "    <tr>\n",
       "      <th>1319</th>\n",
       "      <td>5990000</td>\n",
       "      <td>99</td>\n",
       "      <td>4</td>\n",
       "      <td>Commodities not specified according to kind</td>\n",
       "    </tr>\n",
       "    <tr>\n",
       "      <th>1320</th>\n",
       "      <td>5999900</td>\n",
       "      <td>9999</td>\n",
       "      <td>2</td>\n",
       "      <td>Commodities not specified according to kind</td>\n",
       "    </tr>\n",
       "  </tbody>\n",
       "</table>\n",
       "<p>1321 rows × 4 columns</p>\n",
       "</div>"
      ],
      "text/plain": [
       "           HSVersionCode  commodityCode  aggregationLevelFactor  \\\n",
       "RdfsIndex                                                         \n",
       "0                5010000              1                       4   \n",
       "1                5010100            101                       2   \n",
       "2                5010200            102                       2   \n",
       "3                5010300            103                       2   \n",
       "4                5010400            104                       2   \n",
       "...                  ...            ...                     ...   \n",
       "1316             5970400           9704                       2   \n",
       "1317             5970500           9705                       2   \n",
       "1318             5970600           9706                       2   \n",
       "1319             5990000             99                       4   \n",
       "1320             5999900           9999                       2   \n",
       "\n",
       "                                                 description  \n",
       "RdfsIndex                                                     \n",
       "0                                               Live animals  \n",
       "1                      Live horses, asses, mules and hinnies  \n",
       "2                                        Live bovine animals  \n",
       "3                                                 Live swine  \n",
       "4                                       Live sheep and goats  \n",
       "...                                                      ...  \n",
       "1316       Postage or revenue stamps, stamp-postmarks, fi...  \n",
       "1317       Collections and collectors' pieces of zoologic...  \n",
       "1318                  Antiques of an age exceeding 100 years  \n",
       "1319             Commodities not specified according to kind  \n",
       "1320             Commodities not specified according to kind  \n",
       "\n",
       "[1321 rows x 4 columns]"
      ]
     },
     "execution_count": 28,
     "metadata": {},
     "output_type": "execute_result"
    }
   ],
   "source": [
    "get_root_database().get_child_node(\"hs_metadata_query\").read_data(\"H5\")"
   ]
  },
  {
   "cell_type": "code",
   "execution_count": null,
   "metadata": {},
   "outputs": [],
   "source": []
  }
 ],
 "metadata": {
  "kernelspec": {
   "display_name": "Python 3.10.5 64-bit",
   "language": "python",
   "name": "python3"
  },
  "language_info": {
   "codemirror_mode": {
    "name": "ipython",
    "version": 3
   },
   "file_extension": ".py",
   "mimetype": "text/x-python",
   "name": "python",
   "nbconvert_exporter": "python",
   "pygments_lexer": "ipython3",
   "version": "3.10.5"
  },
  "orig_nbformat": 4,
  "vscode": {
   "interpreter": {
    "hash": "90d99a365a6800d6d3b874802d775db992b69c47481bfc65e12294d647a46c22"
   }
  }
 },
 "nbformat": 4,
 "nbformat_minor": 2
}
