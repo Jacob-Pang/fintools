{
 "cells": [
  {
   "cell_type": "markdown",
   "metadata": {},
   "source": [
    "## Initialization of Root Database"
   ]
  },
  {
   "cell_type": "code",
   "execution_count": 1,
   "metadata": {},
   "outputs": [],
   "source": [
    "import os\n",
    "import pandas as pd\n",
    "\n",
    "from pyutils.database.github_database import GitHubDataBase\n",
    "from pyutils.database.github_database.github_artifact import GitHubArtifact\n",
    "from pyutils.database.github_database.github_dataframe import GitHubDataFrame"
   ]
  },
  {
   "cell_type": "markdown",
   "metadata": {},
   "source": [
    "#### Setting Credentials"
   ]
  },
  {
   "cell_type": "code",
   "execution_count": 2,
   "metadata": {},
   "outputs": [],
   "source": [
    "user_name = \"Jacob-Pang\"\n",
    "repo_name = \"fintools-database\""
   ]
  },
  {
   "cell_type": "code",
   "execution_count": 3,
   "metadata": {},
   "outputs": [],
   "source": [
    "access_token = input()"
   ]
  },
  {
   "cell_type": "code",
   "execution_count": 4,
   "metadata": {},
   "outputs": [],
   "source": [
    "bin_dpath = os.path.join(os.path.dirname(os.getcwd()), \"bin\")"
   ]
  },
  {
   "cell_type": "markdown",
   "metadata": {},
   "source": [
    "#### Initializing Root Node"
   ]
  },
  {
   "cell_type": "code",
   "execution_count": 5,
   "metadata": {},
   "outputs": [],
   "source": [
    "root_database = GitHubDataBase(\n",
    "    \"fintools_database\",\n",
    "    user_name=user_name,\n",
    "    repository_name=repo_name,\n",
    "    description=\"Root database for fintools package.\"\n",
    ")"
   ]
  },
  {
   "cell_type": "markdown",
   "metadata": {},
   "source": [
    "#### Appending Connected Metadata Nodes"
   ]
  },
  {
   "cell_type": "code",
   "execution_count": 6,
   "metadata": {},
   "outputs": [],
   "source": [
    "entity_metadata_node = GitHubDataFrame(\n",
    "    \"entity_metadata\",\n",
    "    description=\"Metadata information on entities used in dataseries.\",\n",
    "    data_source=\"IMF, IIF, and other public sources.\"\n",
    ")\n",
    "\n",
    "root_database.add_connected_child_node(entity_metadata_node, relative_dpath=\"metadata\")\n",
    "entity_metadata_pdf = pd.read_csv(os.path.join(bin_dpath, \"entity_metadata.csv\"))\n",
    "\n",
    "entity_metadata_node.save_data(entity_metadata_pdf, access_token=access_token)"
   ]
  },
  {
   "cell_type": "code",
   "execution_count": 7,
   "metadata": {},
   "outputs": [],
   "source": [
    "tracked_entities_node = GitHubDataFrame(\n",
    "    \"tracked_entities\",\n",
    "    description=\"Breakdown of entities tracked by dataseries.\",\n",
    "    data_source=\"Respective dataseries sources.\"\n",
    ")\n",
    "\n",
    "root_database.add_connected_child_node(tracked_entities_node, relative_dpath=\"metadata\")\n",
    "tracked_entities_pdf = pd.read_csv(os.path.join(bin_dpath, \"tracked_entities.csv\"))\n",
    "\n",
    "tracked_entities_node.save_data(tracked_entities_pdf, access_token=access_token)"
   ]
  },
  {
   "cell_type": "markdown",
   "metadata": {},
   "source": [
    "#### Saving Database Object"
   ]
  },
  {
   "cell_type": "code",
   "execution_count": 8,
   "metadata": {},
   "outputs": [],
   "source": [
    "root_database.save_database_memory(access_token=access_token)"
   ]
  }
 ],
 "metadata": {
  "kernelspec": {
   "display_name": "Python 3.10.5 64-bit",
   "language": "python",
   "name": "python3"
  },
  "language_info": {
   "codemirror_mode": {
    "name": "ipython",
    "version": 3
   },
   "file_extension": ".py",
   "mimetype": "text/x-python",
   "name": "python",
   "nbconvert_exporter": "python",
   "pygments_lexer": "ipython3",
   "version": "3.10.5"
  },
  "orig_nbformat": 4,
  "vscode": {
   "interpreter": {
    "hash": "90d99a365a6800d6d3b874802d775db992b69c47481bfc65e12294d647a46c22"
   }
  }
 },
 "nbformat": 4,
 "nbformat_minor": 2
}
