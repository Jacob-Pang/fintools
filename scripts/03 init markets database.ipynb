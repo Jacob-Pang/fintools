{
 "cells": [
  {
   "cell_type": "code",
   "execution_count": 1,
   "metadata": {},
   "outputs": [],
   "source": [
    "from fintools.datareader import get_root_database\n",
    "from pyutils.database.github_database import GitHubDataBase"
   ]
  },
  {
   "cell_type": "markdown",
   "metadata": {},
   "source": [
    "### Constants"
   ]
  },
  {
   "cell_type": "code",
   "execution_count": 2,
   "metadata": {},
   "outputs": [],
   "source": [
    "user_name = \"Jacob-Pang\"\n",
    "markets_repo_name = \"fintools-markets-database\""
   ]
  },
  {
   "cell_type": "code",
   "execution_count": 5,
   "metadata": {},
   "outputs": [],
   "source": [
    "access_token = input()"
   ]
  },
  {
   "cell_type": "markdown",
   "metadata": {},
   "source": [
    "### Load root database"
   ]
  },
  {
   "cell_type": "code",
   "execution_count": 3,
   "metadata": {},
   "outputs": [],
   "source": [
    "root_database = get_root_database()"
   ]
  },
  {
   "cell_type": "code",
   "execution_count": 4,
   "metadata": {},
   "outputs": [
    {
     "data": {
      "text/html": [
       "<div>\n",
       "<style scoped>\n",
       "    .dataframe tbody tr th:only-of-type {\n",
       "        vertical-align: middle;\n",
       "    }\n",
       "\n",
       "    .dataframe tbody tr th {\n",
       "        vertical-align: top;\n",
       "    }\n",
       "\n",
       "    .dataframe thead th {\n",
       "        text-align: right;\n",
       "    }\n",
       "</style>\n",
       "<table border=\"1\" class=\"dataframe\">\n",
       "  <thead>\n",
       "    <tr style=\"text-align: right;\">\n",
       "      <th></th>\n",
       "      <th>ID</th>\n",
       "      <th>category</th>\n",
       "      <th>description</th>\n",
       "    </tr>\n",
       "  </thead>\n",
       "  <tbody>\n",
       "    <tr>\n",
       "      <th>0</th>\n",
       "      <td>sovereign_bond</td>\n",
       "      <td>DATAFRAME</td>\n",
       "      <td>Sovereign bond yields in percentage terms (%)</td>\n",
       "    </tr>\n",
       "    <tr>\n",
       "      <th>1</th>\n",
       "      <td>macro_database_dbase_memory</td>\n",
       "      <td>ARTIFACT</td>\n",
       "      <td>persistent database memory structure</td>\n",
       "    </tr>\n",
       "    <tr>\n",
       "      <th>2</th>\n",
       "      <td>entity_tracker</td>\n",
       "      <td>DATAFRAME</td>\n",
       "      <td>Breakdown of entities tracked by dataseries.</td>\n",
       "    </tr>\n",
       "    <tr>\n",
       "      <th>3</th>\n",
       "      <td>hs_metadata_query</td>\n",
       "      <td>QUERY</td>\n",
       "      <td>Abstraction for querying Harmonized System (HS...</td>\n",
       "    </tr>\n",
       "    <tr>\n",
       "      <th>4</th>\n",
       "      <td>comtrade_dataseries</td>\n",
       "      <td>DATAFRAME</td>\n",
       "      <td>Trade values of imports, exports, re-imports a...</td>\n",
       "    </tr>\n",
       "    <tr>\n",
       "      <th>5</th>\n",
       "      <td>sovereign_bond_tickers</td>\n",
       "      <td>DATAFRAME</td>\n",
       "      <td>Tickers and metadata for SovereignBondDataSeries.</td>\n",
       "    </tr>\n",
       "    <tr>\n",
       "      <th>6</th>\n",
       "      <td>entity_metadata</td>\n",
       "      <td>DATAFRAME</td>\n",
       "      <td>Metadata information on entities used in datas...</td>\n",
       "    </tr>\n",
       "    <tr>\n",
       "      <th>7</th>\n",
       "      <td>fintools_database_dbase_memory</td>\n",
       "      <td>ARTIFACT</td>\n",
       "      <td>persistent database memory structure</td>\n",
       "    </tr>\n",
       "    <tr>\n",
       "      <th>8</th>\n",
       "      <td>macro_database</td>\n",
       "      <td>DATABASE</td>\n",
       "      <td>fintools database extension for macroeconomic ...</td>\n",
       "    </tr>\n",
       "    <tr>\n",
       "      <th>9</th>\n",
       "      <td>hs5_metadata</td>\n",
       "      <td>DATAFRAME</td>\n",
       "      <td>Metadata for Harmonized System (HS) version 5 ...</td>\n",
       "    </tr>\n",
       "  </tbody>\n",
       "</table>\n",
       "</div>"
      ],
      "text/plain": [
       "                               ID   category  \\\n",
       "0                  sovereign_bond  DATAFRAME   \n",
       "1     macro_database_dbase_memory   ARTIFACT   \n",
       "2                  entity_tracker  DATAFRAME   \n",
       "3               hs_metadata_query      QUERY   \n",
       "4             comtrade_dataseries  DATAFRAME   \n",
       "5          sovereign_bond_tickers  DATAFRAME   \n",
       "6                 entity_metadata  DATAFRAME   \n",
       "7  fintools_database_dbase_memory   ARTIFACT   \n",
       "8                  macro_database   DATABASE   \n",
       "9                    hs5_metadata  DATAFRAME   \n",
       "\n",
       "                                         description  \n",
       "0      Sovereign bond yields in percentage terms (%)  \n",
       "1               persistent database memory structure  \n",
       "2       Breakdown of entities tracked by dataseries.  \n",
       "3  Abstraction for querying Harmonized System (HS...  \n",
       "4  Trade values of imports, exports, re-imports a...  \n",
       "5  Tickers and metadata for SovereignBondDataSeries.  \n",
       "6  Metadata information on entities used in datas...  \n",
       "7               persistent database memory structure  \n",
       "8  fintools database extension for macroeconomic ...  \n",
       "9  Metadata for Harmonized System (HS) version 5 ...  "
      ]
     },
     "execution_count": 4,
     "metadata": {},
     "output_type": "execute_result"
    }
   ],
   "source": [
    "root_database.get_catalog()"
   ]
  },
  {
   "cell_type": "markdown",
   "metadata": {},
   "source": [
    "### Initializing markets database node"
   ]
  },
  {
   "cell_type": "code",
   "execution_count": 6,
   "metadata": {},
   "outputs": [],
   "source": [
    "markets_database = GitHubDataBase(\n",
    "    \"markets_database\",\n",
    "    user_name=user_name,\n",
    "    repository_name=markets_repo_name,\n",
    "    description=\"fintools database extension for markets dataseries.\"\n",
    ")"
   ]
  },
  {
   "cell_type": "code",
   "execution_count": 7,
   "metadata": {},
   "outputs": [],
   "source": [
    "# Add as unconnected node\n",
    "root_database.add_child_node(markets_database)"
   ]
  },
  {
   "cell_type": "markdown",
   "metadata": {},
   "source": [
    "#### Saving Database"
   ]
  },
  {
   "cell_type": "code",
   "execution_count": 8,
   "metadata": {},
   "outputs": [],
   "source": [
    "markets_database.save_database_memory(access_token=access_token)"
   ]
  },
  {
   "cell_type": "code",
   "execution_count": 9,
   "metadata": {},
   "outputs": [],
   "source": [
    "root_database.save_database_memory(access_token=access_token)"
   ]
  },
  {
   "cell_type": "code",
   "execution_count": null,
   "metadata": {},
   "outputs": [],
   "source": []
  }
 ],
 "metadata": {
  "kernelspec": {
   "display_name": "Python 3.10.5 64-bit",
   "language": "python",
   "name": "python3"
  },
  "language_info": {
   "codemirror_mode": {
    "name": "ipython",
    "version": 3
   },
   "file_extension": ".py",
   "mimetype": "text/x-python",
   "name": "python",
   "nbconvert_exporter": "python",
   "pygments_lexer": "ipython3",
   "version": "3.10.5"
  },
  "orig_nbformat": 4,
  "vscode": {
   "interpreter": {
    "hash": "90d99a365a6800d6d3b874802d775db992b69c47481bfc65e12294d647a46c22"
   }
  }
 },
 "nbformat": 4,
 "nbformat_minor": 2
}
