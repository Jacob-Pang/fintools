{
 "cells": [
  {
   "cell_type": "code",
   "execution_count": 1,
   "metadata": {},
   "outputs": [],
   "source": [
    "import os\n",
    "import pandas as pd\n",
    "\n",
    "from pyutils.database.github_database import GitHubDataBase\n",
    "from pyutils.database.github_database.github_dataframe import GitHubDataFrame"
   ]
  },
  {
   "cell_type": "markdown",
   "metadata": {},
   "source": [
    "### Constants"
   ]
  },
  {
   "cell_type": "code",
   "execution_count": 7,
   "metadata": {},
   "outputs": [
    {
     "data": {
      "text/plain": [
       "'c:\\\\Users\\\\jacob\\\\OneDrive\\\\Desktop\\\\repositories\\\\fintools\\\\bin'"
      ]
     },
     "execution_count": 7,
     "metadata": {},
     "output_type": "execute_result"
    }
   ],
   "source": [
    "# Constants\n",
    "user_name = \"Jacob-Pang\"\n",
    "repo_name = \"fintools_database\"\n",
    "bin_dpath = os.path.join(os.path.dirname(os.getcwd()), \"bin\")\n",
    "\n",
    "bin_dpath"
   ]
  },
  {
   "cell_type": "code",
   "execution_count": 4,
   "metadata": {},
   "outputs": [],
   "source": [
    "access_token = input(\"enter access_token:\")"
   ]
  },
  {
   "cell_type": "markdown",
   "metadata": {},
   "source": [
    "### Initializing root database node"
   ]
  },
  {
   "cell_type": "code",
   "execution_count": 8,
   "metadata": {},
   "outputs": [],
   "source": [
    "root_database = GitHubDataBase(\n",
    "    \"fintools_database\",\n",
    "    user_name=user_name,\n",
    "    repository_name=repo_name,\n",
    "    description=\"Root database for fintools package.\"\n",
    ")"
   ]
  },
  {
   "cell_type": "code",
   "execution_count": 9,
   "metadata": {},
   "outputs": [],
   "source": [
    "root_database.set_access_token(access_token)"
   ]
  },
  {
   "cell_type": "markdown",
   "metadata": {},
   "source": [
    "### Initializing metadata nodes"
   ]
  },
  {
   "cell_type": "code",
   "execution_count": 10,
   "metadata": {},
   "outputs": [],
   "source": [
    "entity_metadata_node = GitHubDataFrame(\n",
    "    \"entity_metadata\",\n",
    "    description=\"Metadata information on entities used in dataseries.\",\n",
    "    data_source=\"IMF, IIF, and other public sources.\"\n",
    ")\n",
    "\n",
    "root_database.add_resident_child_node(entity_metadata_node, relative_dpath=\"metadata\")\n",
    "entity_metadata_pdf = pd.read_csv(os.path.join(bin_dpath, \"entity_metadata.csv\"))\n",
    "entity_metadata_node.save_data(entity_metadata_pdf)"
   ]
  },
  {
   "cell_type": "code",
   "execution_count": 11,
   "metadata": {},
   "outputs": [],
   "source": [
    "entity_tracker_node = GitHubDataFrame(\n",
    "    \"entity_tracker\",\n",
    "    description=\"Breakdown of entities tracked by dataseries.\",\n",
    "    data_source=\"Respective dataseries sources.\"\n",
    ")\n",
    "\n",
    "root_database.add_resident_child_node(entity_tracker_node, relative_dpath=\"metadata\")\n",
    "entity_tracker_pdf = pd.read_csv(os.path.join(bin_dpath, \"entity_tracker.csv\"))\n",
    "entity_tracker_node.save_data(entity_tracker_pdf)"
   ]
  },
  {
   "cell_type": "markdown",
   "metadata": {},
   "source": [
    "### Saving databases"
   ]
  },
  {
   "cell_type": "code",
   "execution_count": 12,
   "metadata": {},
   "outputs": [],
   "source": [
    "root_database.save_database_memory()"
   ]
  },
  {
   "cell_type": "code",
   "execution_count": null,
   "metadata": {},
   "outputs": [],
   "source": []
  }
 ],
 "metadata": {
  "kernelspec": {
   "display_name": "Python 3.10.5 64-bit",
   "language": "python",
   "name": "python3"
  },
  "language_info": {
   "codemirror_mode": {
    "name": "ipython",
    "version": 3
   },
   "file_extension": ".py",
   "mimetype": "text/x-python",
   "name": "python",
   "nbconvert_exporter": "python",
   "pygments_lexer": "ipython3",
   "version": "3.10.5"
  },
  "orig_nbformat": 4,
  "vscode": {
   "interpreter": {
    "hash": "90d99a365a6800d6d3b874802d775db992b69c47481bfc65e12294d647a46c22"
   }
  }
 },
 "nbformat": 4,
 "nbformat_minor": 2
}
